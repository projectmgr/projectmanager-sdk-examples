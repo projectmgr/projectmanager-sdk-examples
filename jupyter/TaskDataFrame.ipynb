{
 "cells": [
  {
   "cell_type": "markdown",
   "metadata": {},
   "source": [
    "# ProjectManager SDK Example Jupyter Notebook\n",
    "\n",
    "This notebook demonstrates how to use the ProjectManager Python SDK to make queries within a Jupyter notebook.\n",
    "\n",
    "For this project, we will query all tasks in your project and produce a Pandas DataFrame view.\n",
    "\n"
   ]
  },
  {
   "cell_type": "markdown",
   "metadata": {},
   "source": [
    "-----\n",
    "# Installing the ProjectManager SDK\n",
    "-----\n",
    "\n",
    "This code block demonstrates the use of the `%pip install --upgrade` code block to install the ProjectManager SDK in your current Jupyter kernel.  \n",
    "\n",
    "We recommend using this approach since many Jupyter developers have multiple versions of Python on a computer.  By using this command, Jupyter will guarantee to install the SDK for the current version of Python. "
   ]
  },
  {
   "cell_type": "code",
   "execution_count": null,
   "metadata": {},
   "outputs": [],
   "source": [
    "%pip install --upgrade ProjectManagerSdk"
   ]
  },
  {
   "cell_type": "markdown",
   "metadata": {},
   "source": [
    "-----\n",
    "# Making your first API call\n",
    "-----\n",
    "\n",
    "This code block demonstrates how to use the ProjectManager SDK to validate your API key and ensure that you are connected correctly.\n",
    "\n",
    "It's important to remember to keep your API key separate from your Jupyter code so that anyone reading your notebook cannot see your security credentials."
   ]
  },
  {
   "cell_type": "code",
   "execution_count": null,
   "metadata": {},
   "outputs": [],
   "source": [
    "import ProjectManagerSdk\n",
    "import os\n",
    "\n",
    "# Retrieve API key and create a client\n",
    "apiKey = os.environ.get('PM_API_KEY')\n",
    "client = ProjectManagerSdk.projectmanagerclient.ProjectManagerClient('production', 'EXAMPLE_JUPYTER_NOTEBOOK')\n",
    "client.with_api_key(apiKey)\n",
    "\n",
    "# Test connectivity to the server\n",
    "status_results = client.me.retrieve_me()\n",
    "if not status_results.success or not status_results.data:\n",
    "    print(\"Your API key is not valid.\")\n",
    "    print(\"Please set the environment variable PM_API_KEY and PM_ENV and try again.\")\n",
    "    exit()\n",
    "print(f\"Logged in as {status_results.data.fullName} ({status_results.data.emailAddress})\")\n"
   ]
  },
  {
   "cell_type": "markdown",
   "metadata": {},
   "source": [
    "-----\n",
    "# Retrieving tasks\n",
    "-----\n",
    "\n",
    "This code demonstrates how to retrieve tasks from the ProjectManager API and report on them in a Pandas DataFrame.\n"
   ]
  },
  {
   "cell_type": "code",
   "execution_count": null,
   "metadata": {},
   "outputs": [],
   "source": [
    "import pandas\n",
    "\n",
    "# Retrieve tasks from ProjectManager and import them into a Pandas DataFrame\n",
    "tasks = client.task.query_tasks(None, None, None, None, None, None)\n",
    "df = pandas.DataFrame(tasks.data)\n",
    "df\n"
   ]
  }
 ],
 "metadata": {
  "kernelspec": {
   "display_name": "Python 3",
   "language": "python",
   "name": "python3"
  },
  "language_info": {
   "codemirror_mode": {
    "name": "ipython",
    "version": 3
   },
   "file_extension": ".py",
   "mimetype": "text/x-python",
   "name": "python",
   "nbconvert_exporter": "python",
   "pygments_lexer": "ipython3",
   "version": "3.11.0"
  }
 },
 "nbformat": 4,
 "nbformat_minor": 2
}
