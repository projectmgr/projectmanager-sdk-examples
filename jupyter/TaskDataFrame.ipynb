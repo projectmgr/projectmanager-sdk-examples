{
 "cells": [
  {
   "cell_type": "markdown",
   "metadata": {},
   "source": [
    "# ProjectManager SDK Example Jupyter Notebook\n",
    "\n",
    "This notebook demonstrates how to use the ProjectManager Python SDK to make queries within a Jupyter notebook.\n",
    "\n",
    "For this project, we will query all tasks in your project and produce a Pandas DataFrame view."
   ]
  },
  {
   "cell_type": "code",
   "execution_count": null,
   "metadata": {},
   "outputs": [],
   "source": []
  }
 ],
 "metadata": {
  "language_info": {
   "name": "python"
  }
 },
 "nbformat": 4,
 "nbformat_minor": 2
}
